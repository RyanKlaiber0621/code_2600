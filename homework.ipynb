{
 "cells": [
  {
   "cell_type": "code",
   "execution_count": 2,
   "id": "e36ac9d8",
   "metadata": {},
   "outputs": [],
   "source": [
    "types = [\"pumpkin\", \"pecan\", \"apple\", \"sweet potato\", \n",
    "         \"chocolate\", \"cherry\", \"blueberry\", \"Boston cream\", \n",
    "         \"key lime\", \"banana cream\", \"strawberry\", \"peanut butter\",\n",
    "         \"coconut cream\", \"lemon meringue\", \"peach\", \"rhubarb\",\n",
    "         \"other\"]\n",
    "percents = [23, 14, 12, 8, 6, 5, 5, 3, 3, 3, 3, 3, 3, 3, 2, 2, 3]"
   ]
  }
 ],
 "metadata": {
  "kernelspec": {
   "display_name": "ISLP",
   "language": "python",
   "name": "python3"
  },
  "language_info": {
   "codemirror_mode": {
    "name": "ipython",
    "version": 3
   },
   "file_extension": ".py",
   "mimetype": "text/x-python",
   "name": "python",
   "nbconvert_exporter": "python",
   "pygments_lexer": "ipython3",
   "version": "3.13.5"
  }
 },
 "nbformat": 4,
 "nbformat_minor": 5
}
